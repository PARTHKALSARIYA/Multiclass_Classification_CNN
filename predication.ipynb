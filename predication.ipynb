{
 "cells": [
  {
   "cell_type": "code",
   "execution_count": null,
   "metadata": {},
   "outputs": [
    {
     "name": "stderr",
     "output_type": "stream",
     "text": [
      "WARNING:absl:Compiled the loaded model, but the compiled metrics have yet to be built. `model.compile_metrics` will be empty until you train or evaluate the model.\n"
     ]
    }
   ],
   "source": [
    "import numpy as np\n",
    "import tensorflow as tf\n",
    "from tensorflow.keras.preprocessing import image\n",
    "\n",
    "# Load the trained model\n",
    "model = tf.keras.models.load_model(\"multiclass_cnn_model(Car, Bus or Ship).h5\")\n",
    "\n",
    "# Define class labels (ensure they match the model's training order)\n",
    "class_labels = ['airplanes', 'cars', 'ship']\n",
    "\n",
    "def preprocess_image(img_path, target_size=(224, 224)):\n",
    "    \"\"\"Loads and preprocesses the image for model prediction.\"\"\"\n",
    "    img = image.load_img(img_path, target_size=target_size)\n",
    "    img_array = image.img_to_array(img)\n",
    "    img_array = np.expand_dims(img_array, axis=0)  # Add batch dimension\n",
    "    img_array /= 255.0  # Normalize (if model was trained with normalization)\n",
    "    return img_array\n",
    "\n",
    "def predict_image(img_path):\n",
    "    \"\"\"Predicts the class of a given image.\"\"\"\n",
    "    img_array = preprocess_image(img_path)\n",
    "    predictions = model.predict(img_array)\n",
    "    predicted_class = class_labels[np.argmax(predictions)]  # Get class with max probability\n",
    "    confidence = np.max(predictions)  # Get confidence score\n",
    "    \n",
    "    print(f\"Predicted Class: {predicted_class} (Confidence: {confidence:.2f})\")\n",
    "    return predicted_class, confidence"
   ]
  },
  {
   "cell_type": "code",
   "execution_count": 11,
   "metadata": {},
   "outputs": [
    {
     "name": "stdout",
     "output_type": "stream",
     "text": [
      "\u001b[1m1/1\u001b[0m \u001b[32m━━━━━━━━━━━━━━━━━━━━\u001b[0m\u001b[37m\u001b[0m \u001b[1m0s\u001b[0m 38ms/step\n",
      "Predicted Class: airplanes (Confidence: 1.00)\n"
     ]
    },
    {
     "data": {
      "text/plain": [
       "('airplanes', np.float32(0.9999999))"
      ]
     },
     "execution_count": 11,
     "metadata": {},
     "output_type": "execute_result"
    }
   ],
   "source": [
    "image_path = \"th.jpeg\"  # Change this to your image path\n",
    "predict_image(image_path)"
   ]
  }
 ],
 "metadata": {
  "kernelspec": {
   "display_name": "TensorFlow",
   "language": "python",
   "name": "python3"
  },
  "language_info": {
   "codemirror_mode": {
    "name": "ipython",
    "version": 3
   },
   "file_extension": ".py",
   "mimetype": "text/x-python",
   "name": "python",
   "nbconvert_exporter": "python",
   "pygments_lexer": "ipython3",
   "version": "3.9.21"
  }
 },
 "nbformat": 4,
 "nbformat_minor": 2
}
